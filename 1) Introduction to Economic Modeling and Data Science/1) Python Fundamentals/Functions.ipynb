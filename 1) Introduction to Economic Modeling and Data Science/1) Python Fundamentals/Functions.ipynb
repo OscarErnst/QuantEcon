{
 "cells": [
  {
   "cell_type": "code",
   "execution_count": 6,
   "metadata": {},
   "outputs": [
    {
     "data": {
      "text/plain": [
       "2.5"
      ]
     },
     "execution_count": 6,
     "metadata": {},
     "output_type": "execute_result"
    }
   ],
   "source": [
    "# Function that returns mean of a list of numbers:\n",
    "def mean(numbers):\n",
    "    total = sum(numbers)\n",
    "    N = len(numbers)\n",
    "    answer = total / N\n",
    "\n",
    "    return answer\n",
    "\n",
    "x = [1,2,3,4]\n",
    "mean(x)"
   ]
  },
  {
   "cell_type": "code",
   "execution_count": 8,
   "metadata": {},
   "outputs": [
    {
     "data": {
      "text/plain": [
       "0.6285066872609142"
      ]
     },
     "execution_count": 8,
     "metadata": {},
     "output_type": "execute_result"
    }
   ],
   "source": [
    "# Definerer CD funciton:\n",
    "\n",
    "def cobb_dougles(K, L):\n",
    "    # create alpha and z\n",
    "    z = 1\n",
    "    alpha = 0.33\n",
    "    return z * K ** alpha * L ** (1-alpha)\n",
    "\n",
    "cobb_dougles(1,0.5)"
   ]
  },
  {
   "cell_type": "code",
   "execution_count": 11,
   "metadata": {},
   "outputs": [
    {
     "data": {
      "text/plain": [
       "2.0"
      ]
     },
     "execution_count": 11,
     "metadata": {},
     "output_type": "execute_result"
    }
   ],
   "source": [
    "# Function to check returns to scale for values of gamma\n",
    "\n",
    "def returns_to_scale(K, L, gamma):\n",
    "    y1 = cobb_dougles(K,L)\n",
    "    y2 = cobb_dougles(K*gamma,L*gamma)\n",
    "    y_ratio = y2 / y1\n",
    "    return y_ratio\n",
    "\n",
    "returns_to_scale(1, 0.5, 2)"
   ]
  },
  {
   "cell_type": "code",
   "execution_count": 28,
   "metadata": {},
   "outputs": [],
   "source": [
    "# Function for marginal product:\n",
    "def marginal_products(K, L, epsilon):\n",
    "    mpl = ((cobb_dougles(K, L + epsilon)) - cobb_dougles(K, L)) / epsilon\n",
    "    mpk = ((cobb_dougles(K + epsilon, L)) - cobb_dougles(K, L)) / epsilon\n",
    "    return mpl, mpk"
   ]
  },
  {
   "cell_type": "code",
   "execution_count": 29,
   "metadata": {},
   "outputs": [
    {
     "name": "stdout",
     "output_type": "stream",
     "text": [
      "(0.8421711708284096, 0.20740025904131265)\n"
     ]
    }
   ],
   "source": [
    "tup = marginal_products(1, 0.5, 1e-4)\n",
    "print(tup)"
   ]
  },
  {
   "cell_type": "code",
   "execution_count": 30,
   "metadata": {},
   "outputs": [
    {
     "name": "stdout",
     "output_type": "stream",
     "text": [
      "mpl = 0.8421711708284096, mpk = 0.20740025904131265\n"
     ]
    }
   ],
   "source": [
    "mpl, mpk = marginal_products(1.0, 0.5,  1e-4)\n",
    "print(f\"mpl = {mpl}, mpk = {mpk}\")"
   ]
  },
  {
   "cell_type": "code",
   "execution_count": 33,
   "metadata": {},
   "outputs": [
    {
     "data": {
      "text/plain": [
       "[(0.8421711708284096, 0.20740025904131265),\n",
       " (1.058620425367085, 0.13035463304111872),\n",
       " (1.2101811517950534, 0.09934539767386674)]"
      ]
     },
     "execution_count": 33,
     "metadata": {},
     "output_type": "execute_result"
    }
   ],
   "source": [
    "# Calculate the MP for different K,L using a list comprehension:\n",
    "Ks = [1.0, 2.0, 3.0]\n",
    "[marginal_products(K, 0.5, 1e-4) for K in Ks] # create a tuple for each Ks"
   ]
  },
  {
   "cell_type": "code",
   "execution_count": 36,
   "metadata": {},
   "outputs": [
    {
     "name": "stdout",
     "output_type": "stream",
     "text": [
      "\u001b[0;31mSignature:\u001b[0m \u001b[0mcobb_douglas\u001b[0m\u001b[0;34m(\u001b[0m\u001b[0mK\u001b[0m\u001b[0;34m,\u001b[0m \u001b[0mL\u001b[0m\u001b[0;34m)\u001b[0m\u001b[0;34m\u001b[0m\u001b[0;34m\u001b[0m\u001b[0m\n",
      "\u001b[0;31mDocstring:\u001b[0m\n",
      "Computes the production F(K, L) for a Cobb-Douglas production function\n",
      "\n",
      "Takes the form F(K, L) = z K^{\u0007lpha} L^{1 - \u0007lpha}\n",
      "\n",
      "We restrict z = 1 and alpha = 0.33\n",
      "\u001b[0;31mFile:\u001b[0m      /var/folders/hv/hr9331m55xl79k23tdlj3f3h0000gp/T/ipykernel_84123/1442057811.py\n",
      "\u001b[0;31mType:\u001b[0m      function"
     ]
    }
   ],
   "source": [
    "def cobb_douglas(K, L):\n",
    "    \"\"\"\n",
    "    Computes the production F(K, L) for a Cobb-Douglas production function\n",
    "\n",
    "    Takes the form F(K, L) = z K^{\\alpha} L^{1 - \\alpha}\n",
    "\n",
    "    We restrict z = 1 and alpha = 0.33\n",
    "    \"\"\"\n",
    "    return 1.0 * K**(0.33) * L**(1.0 - 0.33)\n",
    "\n",
    "\n",
    "cobb_douglas?"
   ]
  }
 ],
 "metadata": {
  "kernelspec": {
   "display_name": "base",
   "language": "python",
   "name": "python3"
  },
  "language_info": {
   "codemirror_mode": {
    "name": "ipython",
    "version": 3
   },
   "file_extension": ".py",
   "mimetype": "text/x-python",
   "name": "python",
   "nbconvert_exporter": "python",
   "pygments_lexer": "ipython3",
   "version": "3.11.7"
  }
 },
 "nbformat": 4,
 "nbformat_minor": 2
}
