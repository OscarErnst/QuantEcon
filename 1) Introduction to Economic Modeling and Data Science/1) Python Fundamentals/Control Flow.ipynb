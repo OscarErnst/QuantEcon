{
 "cells": [
  {
   "cell_type": "code",
   "execution_count": 5,
   "metadata": {},
   "outputs": [
    {
     "name": "stdout",
     "output_type": "stream",
     "text": [
      "This is where true code is run\n",
      "This is where true code is run\n",
      "Code runs after 'if' block, regardless of val\n"
     ]
    }
   ],
   "source": [
    "# If we use if True, that is prints:\n",
    "if True:\n",
    "    print(\"This is where true code is run\")\n",
    "\n",
    "#Alternatively, we could have a test which returns a booleans:\n",
    "if 1 < 2:\n",
    "    print(\"This is where true code is run\")\n",
    "\n",
    "#Indentation is important, look:\n",
    "val = False\n",
    "\n",
    "if val is True: # check an expression\n",
    "    print(\"This is where `True` code is run\")\n",
    "    print(\"More code in the if block\")\n",
    "print(\"Code runs after 'if' block, regardless of val\")"
   ]
  },
  {
   "cell_type": "code",
   "execution_count": 8,
   "metadata": {},
   "outputs": [
    {
     "name": "stdout",
     "output_type": "stream",
     "text": [
      "Hallow is in Q4\n"
     ]
    }
   ],
   "source": [
    "# Example using date time:\n",
    "import datetime\n",
    "halloween = datetime.date(2017, 10, 31)\n",
    "\n",
    "if halloween.month > 9:\n",
    "    print(\"Hallow is in Q4\")\n",
    "elif halloween.month > 6:\n",
    "    print(\"Hallow is in Q3\")\n",
    "elif halloween.month > 3:\n",
    "    print(\"Hallow is in Q2\")\n",
    "else:\n",
    "    print(\"Hallow is in Q1\")"
   ]
  },
  {
   "cell_type": "code",
   "execution_count": 12,
   "metadata": {},
   "outputs": [
    {
     "name": "stdout",
     "output_type": "stream",
     "text": [
      "1**2 = 1\n",
      "2**2 = 4\n",
      "3**2 = 9\n",
      "4**2 = 16\n",
      "Altertive\n",
      "1**2 = 1\n",
      "2**2 = 4\n",
      "3**2 = 9\n",
      "4**2 = 16\n",
      "5**2 = 25\n",
      "6**2 = 36\n",
      "7**2 = 49\n",
      "8**2 = 64\n",
      "9**2 = 81\n",
      "10**2 = 100\n"
     ]
    }
   ],
   "source": [
    "print(f\"1**2 = {1**2}\")\n",
    "print(f\"2**2 = {2**2}\")\n",
    "print(f\"3**2 = {3**2}\")\n",
    "print(f\"4**2 = {4**2}\")\n",
    "# .. and so on until 10\n",
    "\n",
    "#Alternativly this could de done using a for loop:\n",
    "print(\"Altertive\")\n",
    "for i in range(1, 11):\n",
    "    print(f\"{i}**2 = {i**2}\")\n"
   ]
  },
  {
   "cell_type": "code",
   "execution_count": 15,
   "metadata": {},
   "outputs": [
    {
     "name": "stdout",
     "output_type": "stream",
     "text": [
      "quater 0 revenue is $5.12 million\n",
      "quater 1 revenue is $5.2 million\n",
      "quater 2 revenue is $5.5 million\n",
      "quater 3 revenue is $6.5 million\n"
     ]
    }
   ],
   "source": [
    "# If we look at a list:\n",
    "company_revennue = [5.12, 5.20, 5.50, 6.50]\n",
    "# We can use enumaate to unpack  both values at the same time:\n",
    "\n",
    "for index, value in enumerate(company_revennue):\n",
    "    print(f\"quater {index} revenue is ${value} million\")"
   ]
  },
  {
   "cell_type": "code",
   "execution_count": 16,
   "metadata": {},
   "outputs": [
    {
     "name": "stdout",
     "output_type": "stream",
     "text": [
      "Phoenix is in Arizona\n",
      "Austin is in Texas\n",
      "San Diego is in California\n",
      "New York is in New York\n"
     ]
    }
   ],
   "source": [
    "# Simiarly this can be used to acces another vector:\n",
    "cities = [\"Phoenix\", \"Austin\", \"San Diego\", \"New York\"]\n",
    "states = [\"Arizona\", \"Texas\", \"California\", \"New York\"]\n",
    "\n",
    "for index, city in enumerate(cities):\n",
    "    state = states[index]\n",
    "    print(f\"{city} is in {state}\")"
   ]
  },
  {
   "cell_type": "code",
   "execution_count": 21,
   "metadata": {},
   "outputs": [
    {
     "name": "stdout",
     "output_type": "stream",
     "text": [
      "0\n",
      "1\n",
      "2\n",
      "done\n"
     ]
    }
   ],
   "source": [
    "# We can slo use loops, which is just for for loops, that run until a givent argument:\n",
    "i = 0\n",
    "while i < 3:\n",
    "    print(i)\n",
    "    i = i + 1\n",
    "print(\"done\")"
   ]
  },
  {
   "cell_type": "code",
   "execution_count": 22,
   "metadata": {},
   "outputs": [
    {
     "name": "stdout",
     "output_type": "stream",
     "text": [
      "The answer is 45\n"
     ]
    }
   ],
   "source": [
    "# Alternatively we can use break, just meaning we stop a loop if some condition is met:\n",
    "# lets find the smallets N such that the sum of i > 1000:\n",
    "\n",
    "total = 0\n",
    "for i in range(1001):\n",
    "    total = total + i\n",
    "    if total > 1000:\n",
    "        break\n",
    "print(\"The answer is\", i)"
   ]
  },
  {
   "cell_type": "code",
   "execution_count": 23,
   "metadata": {},
   "outputs": [
    {
     "name": "stdout",
     "output_type": "stream",
     "text": [
      "1 is an odd number!\n",
      "3 is an odd number!\n",
      "5 is an odd number!\n",
      "7 is an odd number!\n",
      "9 is an odd number!\n"
     ]
    }
   ],
   "source": [
    "# WE can also use continue. If we want to stop a condition is meet:\n",
    "\n",
    "for i in range(1, 11):\n",
    "    if i % 2 == 0: #An even number using modulus division\n",
    "        continue\n",
    "\n",
    "    print(i, \"is an odd number!\")"
   ]
  },
  {
   "cell_type": "code",
   "execution_count": 25,
   "metadata": {},
   "outputs": [
    {
     "name": "stdout",
     "output_type": "stream",
     "text": [
      "[0, 1, 4, 9]\n",
      "[0, 1, 4, 9]\n"
     ]
    }
   ],
   "source": [
    "# We can alos use a comprehension. Which is just fancy words for doing a loop in 1 line\n",
    "x = list(range(4))\n",
    "# Find squares values using normal loop:\n",
    "x2_loop = []\n",
    "for x_val in x:\n",
    "    x2_loop.append(x_val ** 2)\n",
    "\n",
    "# Using comprehension\n",
    "x2_comp = [x_val**2 for x_val in x]\n",
    "\n",
    "print(x2_loop)\n",
    "print(x2_comp)"
   ]
  },
  {
   "cell_type": "code",
   "execution_count": 28,
   "metadata": {},
   "outputs": [
    {
     "data": {
      "text/plain": [
       "{'AAPL': 175.96, 'GOOGL': 1047.43, 'TVIX': 8.38}"
      ]
     },
     "execution_count": 28,
     "metadata": {},
     "output_type": "execute_result"
    }
   ],
   "source": [
    "# Createa a dict from a list using comprehension:\n",
    "# Create a dictionary from lists\n",
    "tickers = [\"AAPL\", \"GOOGL\", \"TVIX\"]\n",
    "prices = [175.96, 1047.43, 8.38]\n",
    "\n",
    "d = {key: value for key, value in zip(tickers, prices)}\n",
    "d"
   ]
  },
  {
   "cell_type": "code",
   "execution_count": 29,
   "metadata": {},
   "outputs": [
    {
     "data": {
      "text/plain": [
       "['Seattle', 'Zurich', 'Cupertino']"
      ]
     },
     "execution_count": 29,
     "metadata": {},
     "output_type": "execute_result"
    }
   ],
   "source": [
    "# Create a list from a dictionary\n",
    "d = {\"AMZN\": \"Seattle\", \"TVIX\": \"Zurich\", \"AAPL\": \"Cupertino\"}\n",
    "\n",
    "hq_cities = [d[ticker] for ticker in d.keys()]\n",
    "hq_cities"
   ]
  },
  {
   "cell_type": "code",
   "execution_count": 30,
   "metadata": {},
   "outputs": [
    {
     "name": "stdout",
     "output_type": "stream",
     "text": [
      "{2013: {'gdp': 9.607, 'exports': {'manufacturing': 2.4, 'agriculture': 1.5, 'services': 0.5}}, 2014: {'gdp': 10.48, 'exports': {'manufacturing': 2.5, 'agriculture': 1.4, 'services': 0.9}}, 2015: {'gdp': 11.06, 'exports': {'manufacturing': 2.7, 'agriculture': 1.4, 'services': 1.5}}}\n"
     ]
    },
    {
     "data": {
      "text/plain": [
       "[0.5, 0.9, 1.5]"
      ]
     },
     "execution_count": 30,
     "metadata": {},
     "output_type": "execute_result"
    }
   ],
   "source": [
    "# WE can also use this approach to build complicated nested dictationaries:\n",
    "gdp_data = [9.607, 10.48, 11.06]\n",
    "years = [2013, 2014, 2015]\n",
    "exports = [ {\"manufacturing\": 2.4, \"agriculture\": 1.5, \"services\": 0.5},\n",
    "            {\"manufacturing\": 2.5, \"agriculture\": 1.4, \"services\": 0.9},\n",
    "            {\"manufacturing\": 2.7, \"agriculture\": 1.4, \"services\": 1.5}]\n",
    "data = zip(years, gdp_data,exports)\n",
    "data_dict = {year : {\"gdp\" : gdp, \"exports\": exports} for year, gdp, exports in data}\n",
    "print(data_dict)\n",
    "\n",
    "# total exports by year\n",
    "[data_dict[year][\"exports\"][\"services\"] for year in data_dict.keys()]"
   ]
  },
  {
   "cell_type": "markdown",
   "metadata": {},
   "source": [
    "# Exercisese"
   ]
  },
  {
   "cell_type": "markdown",
   "metadata": {},
   "source": [
    "Government bonds are often issued as zero-coupon bonds meaning that they make no payments throughout the entire time that they are held, but, rather make a single payment at the time of maturity.\n",
    "\n",
    "How much should you be willing to pay for a zero-coupon bond that paid 100 in 10 years with an interest rate of 5%?\n",
    "\n"
   ]
  },
  {
   "cell_type": "code",
   "execution_count": 4,
   "metadata": {},
   "outputs": [
    {
     "name": "stdout",
     "output_type": "stream",
     "text": [
      "I would be willing to day 61.39132535407592\n"
     ]
    }
   ],
   "source": [
    "# Exercise 1\n",
    "r = 0.05\n",
    "year_of_maturity = 10\n",
    "\n",
    "value = 100/(1+r)**year_of_maturity\n",
    "print(f\"I would be willing to day {value}\")"
   ]
  },
  {
   "cell_type": "code",
   "execution_count": 10,
   "metadata": {},
   "outputs": [
    {
     "name": "stdout",
     "output_type": "stream",
     "text": [
      "1\n",
      "2\n",
      "3\n",
      "1\n",
      "2\n",
      "3\n"
     ]
    }
   ],
   "source": [
    "# Exercise 2\n",
    "x = 3\n",
    "\n",
    "if x > 0:\n",
    "    print(\"1\")\n",
    "    print(\"2\")\n",
    "print(\"3\")\n",
    "\n",
    "x = 1\n",
    "\n",
    "if x > 0:\n",
    "    print(\"1\")\n",
    "    print(\"2\") # changed the indentation\n",
    "print(\"3\")"
   ]
  },
  {
   "cell_type": "code",
   "execution_count": 17,
   "metadata": {},
   "outputs": [
    {
     "name": "stdout",
     "output_type": "stream",
     "text": [
      "Good morning\n"
     ]
    }
   ],
   "source": [
    "# Exercise 3:\n",
    "import datetime\n",
    "current_time = datetime.datetime.now()\n",
    "\n",
    "if current_time.hour < 12:\n",
    "    print(\"Good morning\")\n",
    "elif current_time > 12:\n",
    "    print(\"Good Afternoon\")\n",
    "    "
   ]
  },
  {
   "cell_type": "code",
   "execution_count": 23,
   "metadata": {},
   "outputs": [
    {
     "name": "stdout",
     "output_type": "stream",
     "text": [
      "x = 0.9424528615157418\n",
      "x > 0.50\n"
     ]
    }
   ],
   "source": [
    "#Execise 4:\n",
    "import numpy as np\n",
    "x = np.random.random()\n",
    "print(f\"x = {x}\")\n",
    "\n",
    "## your code here\n",
    "if x > 0.5:\n",
    "    print(f\"x > 0.50\")\n",
    "elif x < 0.5:\n",
    "    print(f\"x < 0.5\")"
   ]
  },
  {
   "cell_type": "code",
   "execution_count": 39,
   "metadata": {},
   "outputs": [
    {
     "name": "stdout",
     "output_type": "stream",
     "text": [
      "NPV of high school worker is 720681.6268677663\n",
      "The NPV of paying for college is 18616.24014685239\n",
      "NPV of college worker is 705841.1404299416\n",
      "The NPV of high school worker is 720681.6268677663 and the NPV of college (net of costs) is 687224.9002830891\n",
      "You should not enroll in College\n"
     ]
    }
   ],
   "source": [
    "# Exercise 5:\n",
    "# Discount rate\n",
    "r = 0.05\n",
    "\n",
    "# High school wage\n",
    "w_hs = 40_000\n",
    "\n",
    "# College wage and cost of college\n",
    "c_college = 5_000\n",
    "w_college = 50_000\n",
    "\n",
    "# Compute NPV of being a high school worker\n",
    "npv_hs_worker = 0\n",
    "for i in range(1, 41):\n",
    "    npv_hs_worker += w_hs / (1 + r) ** (i - 1)\n",
    "print(f\"NPV of high school worker is {npv_hs_worker}\")\n",
    "\n",
    "# Compute NPV of attending college (costs)\n",
    "npv_attending_college = 0\n",
    "for i in range(1, 5):\n",
    "    npv_attending_college += c_college / (1 + r) ** (i - 1)\n",
    "print(f\"The NPV of paying for college is {npv_attending_college}\")\n",
    "\n",
    "# Compute NPV of being a college worker\n",
    "npv_col_worker = 0\n",
    "for i in range(6, 46):\n",
    "    npv_col_worker += w_college / (1 + r) ** (i - 1)\n",
    "print(f\"NPV of college worker is {npv_col_worker}\")\n",
    "\n",
    "# Compute total NPV of attending college and being a college worker\n",
    "npv_total_college = npv_col_worker - npv_attending_college\n",
    "\n",
    "# Compare the NPV of being a high school worker to the NPV of going to college\n",
    "print(f\"The NPV of high school worker is {npv_hs_worker} and the NPV of college (net of costs) is {npv_total_college}\")\n",
    "\n",
    "if npv_hs_worker > npv_total_college:\n",
    "    print(\"You should not enroll in College\")\n",
    "else:\n",
    "    print(\"You should enroll in College\")\n"
   ]
  },
  {
   "cell_type": "code",
   "execution_count": 40,
   "metadata": {},
   "outputs": [
    {
     "name": "stdout",
     "output_type": "stream",
     "text": [
      "Phoenix is in Arizona\n",
      "Austin is in Texas\n",
      "San Diego is in California\n",
      "New York is in New York\n"
     ]
    }
   ],
   "source": [
    "# Exercise 6:\n",
    "cities = [\"Phoenix\", \"Austin\", \"San Diego\", \"New York\"]\n",
    "states = [\"Arizona\", \"Texas\", \"California\", \"New York\"]\n",
    "\n",
    "# Your code here\n",
    "for city, state in zip(cities, states):\n",
    "    print(f\"{city} is in {state}\")\n"
   ]
  },
  {
   "cell_type": "code",
   "execution_count": 48,
   "metadata": {},
   "outputs": [
    {
     "name": "stdout",
     "output_type": "stream",
     "text": [
      "After 11 months the NPV of the worker is 26178.261326754182\n"
     ]
    }
   ],
   "source": [
    "#Exercise 7:\n",
    "# Define cost of teaching python\n",
    "cost = 25_000\n",
    "r = 0.01\n",
    "\n",
    "# Per month value\n",
    "added_value = 2500\n",
    "\n",
    "n_months = 0\n",
    "total_npv = 0.0\n",
    "\n",
    "# Put condition below here\n",
    "while total_npv <= 25000: # (replace False with your condition here)\n",
    "    total_npv += 2500/((1+r)**n_months)\n",
    "    n_months = n_months + 1  # Increment how many months they've worked\n",
    "\n",
    "    # Increase total_npv\n",
    "print(f\"After {n_months} months the NPV of the worker is {total_npv}\")"
   ]
  },
  {
   "cell_type": "code",
   "execution_count": 53,
   "metadata": {},
   "outputs": [
    {
     "name": "stdout",
     "output_type": "stream",
     "text": [
      "The index of the first value greater than 0.999 is 370\n"
     ]
    }
   ],
   "source": [
    "import numpy as np\n",
    "\n",
    "x = np.random.rand(10_000)\n",
    "\n",
    "# Initialize the index variable\n",
    "index = -1\n",
    "\n",
    "# Iterate over the range of indices in x\n",
    "for i in range(len(x)):\n",
    "    if x[i] > 0.999:\n",
    "        index = i\n",
    "        break\n",
    "\n",
    "# Check if the index was found\n",
    "if index != -1:\n",
    "    print(f\"The index of the first value greater than 0.999 is {index}\")\n",
    "else:\n",
    "    print(\"No value greater than 0.999 was found\")\n"
   ]
  },
  {
   "cell_type": "code",
   "execution_count": 56,
   "metadata": {},
   "outputs": [
    {
     "name": "stdout",
     "output_type": "stream",
     "text": [
      "The sum of all values in x that are greater than or equal to 0.5 is 3725.3780618399983\n"
     ]
    }
   ],
   "source": [
    "import numpy as np\n",
    "\n",
    "x = np.random.rand(10_000)\n",
    "\n",
    "# Initialize sum variable\n",
    "sum = 0\n",
    "\n",
    "# Iterate over each value in x\n",
    "for value in x:\n",
    "    if value >= 0.5:\n",
    "        sum += value\n",
    "    else:\n",
    "        continue\n",
    "\n",
    "print(f\"The sum of all values in x that are greater than or equal to 0.5 is {sum}\")\n"
   ]
  }
 ],
 "metadata": {
  "kernelspec": {
   "display_name": "base",
   "language": "python",
   "name": "python3"
  },
  "language_info": {
   "codemirror_mode": {
    "name": "ipython",
    "version": 3
   },
   "file_extension": ".py",
   "mimetype": "text/x-python",
   "name": "python",
   "nbconvert_exporter": "python",
   "pygments_lexer": "ipython3",
   "version": "3.11.7"
  }
 },
 "nbformat": 4,
 "nbformat_minor": 2
}
