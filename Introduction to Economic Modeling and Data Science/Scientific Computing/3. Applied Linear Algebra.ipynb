{
 "cells": [
  {
   "cell_type": "code",
   "execution_count": 1,
   "metadata": {},
   "outputs": [],
   "source": [
    "# import numpy to prepare for code below\n",
    "import numpy as np\n",
    "import matplotlib.pyplot as plt\n",
    "\n",
    "%matplotlib inline"
   ]
  },
  {
   "cell_type": "markdown",
   "metadata": {},
   "source": [
    "# Vectors and Matrices\n",
    "\n",
    "## Vectors"
   ]
  },
  {
   "cell_type": "code",
   "execution_count": 2,
   "metadata": {},
   "outputs": [],
   "source": [
    "x = np.array([1, 2, 3])\n",
    "y = np.array([4, 5, 6])"
   ]
  },
  {
   "cell_type": "code",
   "execution_count": 3,
   "metadata": {},
   "outputs": [
    {
     "name": "stdout",
     "output_type": "stream",
     "text": [
      "Element-wise Addition [5 7 9]\n",
      "Element-wise Subtraction [-3 -3 -3]\n",
      "Element-wise Multiplication [ 4 10 18]\n",
      "Element-wise Division [0.25 0.4  0.5 ]\n"
     ]
    }
   ],
   "source": [
    "print(\"Element-wise Addition\", x + y)\n",
    "print(\"Element-wise Subtraction\", x - y)\n",
    "print(\"Element-wise Multiplication\", x * y)\n",
    "print(\"Element-wise Division\", x / y)"
   ]
  },
  {
   "cell_type": "code",
   "execution_count": 4,
   "metadata": {},
   "outputs": [
    {
     "name": "stdout",
     "output_type": "stream",
     "text": [
      "Scalar Addition [4 5 6]\n",
      "Scalar Subtraction [2 1 0]\n",
      "Scalar Multiplication [3 6 9]\n",
      "Scalar Division [3.  1.5 1. ]\n"
     ]
    }
   ],
   "source": [
    "print(\"Scalar Addition\", 3 + x)\n",
    "print(\"Scalar Subtraction\", 3 - x)\n",
    "print(\"Scalar Multiplication\", 3 * x)\n",
    "print(\"Scalar Division\", 3 / x)"
   ]
  },
  {
   "cell_type": "code",
   "execution_count": 5,
   "metadata": {},
   "outputs": [
    {
     "name": "stdout",
     "output_type": "stream",
     "text": [
      "Dot product 32\n"
     ]
    }
   ],
   "source": [
    "print(\"Dot product\", np.dot(x, y))\n"
   ]
  },
  {
   "cell_type": "code",
   "execution_count": 6,
   "metadata": {},
   "outputs": [
    {
     "name": "stdout",
     "output_type": "stream",
     "text": [
      "Dot product with @ 32\n"
     ]
    }
   ],
   "source": [
    "print(\"Dot product with @\", x @ y)"
   ]
  },
  {
   "cell_type": "markdown",
   "metadata": {},
   "source": [
    "## Matrices\n"
   ]
  }
 ],
 "metadata": {
  "kernelspec": {
   "display_name": "base",
   "language": "python",
   "name": "python3"
  },
  "language_info": {
   "codemirror_mode": {
    "name": "ipython",
    "version": 3
   },
   "file_extension": ".py",
   "mimetype": "text/x-python",
   "name": "python",
   "nbconvert_exporter": "python",
   "pygments_lexer": "ipython3",
   "version": "3.11.7"
  }
 },
 "nbformat": 4,
 "nbformat_minor": 2
}
